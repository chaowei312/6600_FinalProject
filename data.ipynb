{
 "cells": [
  {
   "cell_type": "markdown",
   "metadata": {},
   "source": []
  },
  {
   "cell_type": "markdown",
   "metadata": {},
   "source": [
    "## Resources: \n",
    "- https://huggingface.co/spaces/mteb/leaderboard (Looking for open source embedding models)\n",
    "- "
   ]
  },
  {
   "cell_type": "code",
   "execution_count": 14,
   "metadata": {},
   "outputs": [
    {
     "name": "stdout",
     "output_type": "stream",
     "text": [
      "Tech/AI/Social Media Companies Data Download\n",
      "==================================================\n",
      "Downloading financial data from 2020-01-01 to 2025-04-14...\n"
     ]
    },
    {
     "name": "stderr",
     "output_type": "stream",
     "text": [
      "[*********************100%***********************]  30 of 30 completed\n"
     ]
    },
    {
     "name": "stdout",
     "output_type": "stream",
     "text": [
      "Saved complete data to financial_data/all_tech_stocks_data.csv\n",
      "\n",
      "Data download complete!\n",
      "Data for 30 companies downloaded and saved to 'financial_data/all_tech_stocks_data.csv'\n",
      "Date range: 2020-01-01 to 2025-04-14\n",
      "Total trading days: 1327\n",
      "\n",
      "Data structure information:\n",
      "Data columns (multiindex): [('Close', 'AAPL'), ('Close', 'ADBE'), ('Close', 'AI'), ('Close', 'AMD'), ('Close', 'AMZN'), ('Close', 'BIDU'), ('Close', 'BMBL'), ('Close', 'CRM'), ('Close', 'GOOGL'), ('Close', 'IBM'), ('Close', 'INTC'), ('Close', 'KKR'), ('Close', 'META'), ('Close', 'MSFT'), ('Close', 'MTCH'), ('Close', 'NVDA'), ('Close', 'ORCL'), ('Close', 'PINS'), ('Close', 'PLTR'), ('Close', 'RBLX'), ('Close', 'RDDT'), ('Close', 'ROKU'), ('Close', 'SFTBY'), ('Close', 'SNAP'), ('Close', 'SPOT'), ('Close', 'TCEHY'), ('Close', 'TSLA'), ('Close', 'TSM'), ('Close', 'TTD'), ('Close', 'U'), ('High', 'AAPL'), ('High', 'ADBE'), ('High', 'AI'), ('High', 'AMD'), ('High', 'AMZN'), ('High', 'BIDU'), ('High', 'BMBL'), ('High', 'CRM'), ('High', 'GOOGL'), ('High', 'IBM'), ('High', 'INTC'), ('High', 'KKR'), ('High', 'META'), ('High', 'MSFT'), ('High', 'MTCH'), ('High', 'NVDA'), ('High', 'ORCL'), ('High', 'PINS'), ('High', 'PLTR'), ('High', 'RBLX'), ('High', 'RDDT'), ('High', 'ROKU'), ('High', 'SFTBY'), ('High', 'SNAP'), ('High', 'SPOT'), ('High', 'TCEHY'), ('High', 'TSLA'), ('High', 'TSM'), ('High', 'TTD'), ('High', 'U'), ('Low', 'AAPL'), ('Low', 'ADBE'), ('Low', 'AI'), ('Low', 'AMD'), ('Low', 'AMZN'), ('Low', 'BIDU'), ('Low', 'BMBL'), ('Low', 'CRM'), ('Low', 'GOOGL'), ('Low', 'IBM'), ('Low', 'INTC'), ('Low', 'KKR'), ('Low', 'META'), ('Low', 'MSFT'), ('Low', 'MTCH'), ('Low', 'NVDA'), ('Low', 'ORCL'), ('Low', 'PINS'), ('Low', 'PLTR'), ('Low', 'RBLX'), ('Low', 'RDDT'), ('Low', 'ROKU'), ('Low', 'SFTBY'), ('Low', 'SNAP'), ('Low', 'SPOT'), ('Low', 'TCEHY'), ('Low', 'TSLA'), ('Low', 'TSM'), ('Low', 'TTD'), ('Low', 'U'), ('Open', 'AAPL'), ('Open', 'ADBE'), ('Open', 'AI'), ('Open', 'AMD'), ('Open', 'AMZN'), ('Open', 'BIDU'), ('Open', 'BMBL'), ('Open', 'CRM'), ('Open', 'GOOGL'), ('Open', 'IBM'), ('Open', 'INTC'), ('Open', 'KKR'), ('Open', 'META'), ('Open', 'MSFT'), ('Open', 'MTCH'), ('Open', 'NVDA'), ('Open', 'ORCL'), ('Open', 'PINS'), ('Open', 'PLTR'), ('Open', 'RBLX'), ('Open', 'RDDT'), ('Open', 'ROKU'), ('Open', 'SFTBY'), ('Open', 'SNAP'), ('Open', 'SPOT'), ('Open', 'TCEHY'), ('Open', 'TSLA'), ('Open', 'TSM'), ('Open', 'TTD'), ('Open', 'U'), ('Volume', 'AAPL'), ('Volume', 'ADBE'), ('Volume', 'AI'), ('Volume', 'AMD'), ('Volume', 'AMZN'), ('Volume', 'BIDU'), ('Volume', 'BMBL'), ('Volume', 'CRM'), ('Volume', 'GOOGL'), ('Volume', 'IBM'), ('Volume', 'INTC'), ('Volume', 'KKR'), ('Volume', 'META'), ('Volume', 'MSFT'), ('Volume', 'MTCH'), ('Volume', 'NVDA'), ('Volume', 'ORCL'), ('Volume', 'PINS'), ('Volume', 'PLTR'), ('Volume', 'RBLX'), ('Volume', 'RDDT'), ('Volume', 'ROKU'), ('Volume', 'SFTBY'), ('Volume', 'SNAP'), ('Volume', 'SPOT'), ('Volume', 'TCEHY'), ('Volume', 'TSLA'), ('Volume', 'TSM'), ('Volume', 'TTD'), ('Volume', 'U')]\n",
      "\n",
      "To access specific data in pandas, use:\n",
      "  df['Close']['NVDA']  # For NVIDIA closing prices\n",
      "  df.loc['2023-01-15']  # For all data on a specific date\n"
     ]
    }
   ],
   "source": [
    "import yfinance as yf\n",
    "import pandas as pd\n",
    "from datetime import datetime\n",
    "import os\n",
    "\n",
    "# Create a directory to save the data\n",
    "if not os.path.exists('financial_data'):\n",
    "    os.makedirs('financial_data')\n",
    "\n",
    "# Define the list of major AI/tech/social media companies with their ticker symbols\n",
    "tech_tickers = {\n",
    "    # Big Tech / AI companies\n",
    "    'NVIDIA': 'NVDA',\n",
    "    'Apple': 'AAPL',\n",
    "    'Microsoft': 'MSFT',\n",
    "    'Alphabet': 'GOOGL',\n",
    "    'Amazon': 'AMZN',\n",
    "    'Meta': 'META',\n",
    "    'Tesla': 'TSLA',\n",
    "    'IBM': 'IBM',\n",
    "    'Intel': 'INTC',\n",
    "    'AMD': 'AMD',\n",
    "    'Oracle': 'ORCL',\n",
    "    'Salesforce': 'CRM',\n",
    "    'Adobe': 'ADBE',\n",
    "    'Palantir': 'PLTR',\n",
    "    'C3.ai': 'AI',\n",
    "    'Baidu': 'BIDU',\n",
    "    'Taiwan Semi': 'TSM',\n",
    "    \n",
    "    # Social Media and Content Platforms\n",
    "    'Snap': 'SNAP',\n",
    "    'Pinterest': 'PINS',\n",
    "    'Reddit': 'RDDT',\n",
    "    'Match Group': 'MTCH',\n",
    "    'Bumble': 'BMBL',\n",
    "    'Roblox': 'RBLX',\n",
    "    'Unity': 'U',\n",
    "    'Tencent': 'TCEHY',\n",
    "    \n",
    "    # Digital Advertising / Social Media Adjacent\n",
    "    'Trade Desk': 'TTD',\n",
    "    'Spotify': 'SPOT',\n",
    "    'Roku': 'ROKU',\n",
    "    \n",
    "    # ByteDance/TikTok investors\n",
    "    'SoftBank': 'SFTBY',\n",
    "    'KKR': 'KKR',\n",
    "}\n",
    "\n",
    "# Set the time period for data\n",
    "start_date = '2020-01-01'\n",
    "end_date = datetime.now().strftime('%Y-%m-%d')\n",
    "\n",
    "def download_data():\n",
    "    \"\"\"Download and save stock data for all companies\"\"\"\n",
    "    print(f\"Downloading financial data from {start_date} to {end_date}...\")\n",
    "    \n",
    "    # Download data for all companies at once\n",
    "    all_data = yf.download(list(tech_tickers.values()), start=start_date, end=end_date)\n",
    "    \n",
    "    # Save the complete data to a CSV file\n",
    "    all_data.to_csv('financial_data/tech_stocks.csv')\n",
    "    print(f\"Saved complete data to financial_data/all_tech_stocks_data.csv\")\n",
    "    \n",
    "    return all_data\n",
    "\n",
    "if __name__ == \"__main__\":\n",
    "    print(\"Tech/AI/Social Media Companies Data Download\")\n",
    "    print(\"=\" * 50)\n",
    "    \n",
    "    # Download the data\n",
    "    all_data = download_data()\n",
    "    \n",
    "    print(\"\\nData download complete!\")\n",
    "    print(f\"Data for {len(tech_tickers)} companies downloaded and saved to 'financial_data/all_tech_stocks_data.csv'\")\n",
    "    print(f\"Date range: {start_date} to {end_date}\")\n",
    "    print(f\"Total trading days: {len(all_data)}\")\n",
    "    \n",
    "    # Print column information to help with data access\n",
    "    print(\"\\nData structure information:\")\n",
    "    print(f\"Data columns (multiindex): {list(all_data.columns.values)}\")\n",
    "    print(\"\\nTo access specific data in pandas, use:\")\n",
    "    print(\"  df['Close']['NVDA']  # For NVIDIA closing prices\")\n",
    "    print(\"  df.loc['2023-01-15']  # For all data on a specific date\")"
   ]
  }
 ],
 "metadata": {
  "kernelspec": {
   "display_name": "base",
   "language": "python",
   "name": "python3"
  },
  "language_info": {
   "codemirror_mode": {
    "name": "ipython",
    "version": 3
   },
   "file_extension": ".py",
   "mimetype": "text/x-python",
   "name": "python",
   "nbconvert_exporter": "python",
   "pygments_lexer": "ipython3",
   "version": "3.11.11"
  }
 },
 "nbformat": 4,
 "nbformat_minor": 2
}
